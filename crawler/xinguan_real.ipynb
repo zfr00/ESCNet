{
 "cells": [
  {
   "cell_type": "code",
   "execution_count": 1,
   "metadata": {},
   "outputs": [],
   "source": [
    "api = \"https://api.thepaper.cn/search/web/news\"\n",
    "import requests\n",
    "resp = requests.post(\n",
    "    api,\n",
    "    json={\n",
    "        \"word\": \"新冠病毒\",\n",
    "        \"orderType\": 3,\n",
    "        \"pageNum\": 1,\n",
    "        \"pageSize\": 10,\n",
    "        \"searchType\": 1,\n",
    "    },\n",
    ").json()"
   ]
  },
  {
   "cell_type": "code",
   "execution_count": 5,
   "metadata": {},
   "outputs": [
    {
     "data": {
      "text/plain": [
       "{'contId': '23310405',\n",
       " 'isOutForword': '0',\n",
       " 'forwardType': '0',\n",
       " 'mobForwardType': 2,\n",
       " 'interactionNum': '',\n",
       " 'praiseTimes': '1',\n",
       " 'pic': 'https://imagecloud.thepaper.cn/thepaper/image/254/706/887.jpg',\n",
       " 'smallPic': 'https://imagecloud.thepaper.cn/thepaper/image/254/706/887.jpg?x-oss-process=image/resize,w_332',\n",
       " 'sharePic': 'https://imagecloud.thepaper.cn/thepaper/image/254/706/890.jpg',\n",
       " 'pubTime': '2023-06-01',\n",
       " 'summary': '…5月22日，李显龙<font color=\"#00a5eb\">新冠病毒</font>检测呈阳性，5月28日他宣布<font color=\"#00a5eb\">病毒</font>检测转阴，隔天开始重返办公室工作…',\n",
       " 'name': '新加坡总理李显龙<font color=\"#00a5eb\">新冠病毒</font>检测阴性4天后复阳',\n",
       " 'closePraise': '0',\n",
       " 'nodeInfo': {'nodeId': 25429,\n",
       "  'name': '全球速报',\n",
       "  'publishTime': 1668726066292,\n",
       "  'desc': '最热点的全球资讯',\n",
       "  'pic': 'https://imagecloud.thepaper.cn/thepaper/image/4/158/73.png',\n",
       "  'nodeType': 0,\n",
       "  'forwordType': 22,\n",
       "  'forwardType': '22',\n",
       "  'liveType': '2',\n",
       "  'parentId': 25388,\n",
       "  'isOrder': '0',\n",
       "  'mobForwardType': '22',\n",
       "  'summarize': '最热点的全球资讯',\n",
       "  'color': '',\n",
       "  'dataType': '0',\n",
       "  'shareName': '全球速报',\n",
       "  'videoLivingRoomDes': '',\n",
       "  'wwwSpecNodeAlign': 0,\n",
       "  'nickName': ''},\n",
       " 'nodeId': 25429,\n",
       " 'contType': 0,\n",
       " 'pubTimeLong': 1685585106565,\n",
       " 'specialNodeId': 0,\n",
       " 'cardMode': '101',\n",
       " 'dataObjId': 52,\n",
       " 'closeFrontComment': False,\n",
       " 'isSupInteraction': False,\n",
       " 'hideVideoFlag': False,\n",
       " 'praiseStyle': 1,\n",
       " 'softLocType': 1,\n",
       " 'objectInfo': {'object_id': '23310405',\n",
       "  'object_type': 'article',\n",
       "  'object_sub_type': 'news_normal',\n",
       "  'sinfo': {'object_id': '23310405',\n",
       "   'object_type': 'article',\n",
       "   'object_sub_type': 'news_normal',\n",
       "   'req_id': 'c82cc6fb6bb4d427',\n",
       "   'url': None,\n",
       "   'recallId': None,\n",
       "   'subRecallId': None}}}"
      ]
     },
     "execution_count": 5,
     "metadata": {},
     "output_type": "execute_result"
    }
   ],
   "source": [
    "resp[\"data\"][\"list\"][0]"
   ]
  },
  {
   "cell_type": "code",
   "execution_count": null,
   "metadata": {},
   "outputs": [],
   "source": [
    "import requests\n",
    "import re\n",
    "import requests\n",
    "from newspaper import Article\n",
    "import pandas as pd\n",
    "apiURL = \"https://api.thepaper.cn/search/web/news\"\n",
    "Template = 'https://www.thepaper.cn/newsDetail_forward_'\n",
    "all_title = []\n",
    "all_text = []\n",
    "all_img = []\n",
    "# items = []\n",
    "\n",
    "pageNum = 1\n",
    "while True:\n",
    "    resp = requests.post(\n",
    "    api,\n",
    "    json={\n",
    "        \"word\": \"新冠病毒\",\n",
    "        \"orderType\": 3,\n",
    "        \"pageNum\": pageNum,\n",
    "        \"pageSize\": 10,\n",
    "        \"searchType\": 1,\n",
    "        },\n",
    "    ).json()[\"data\"][\"list\"]\n",
    "    if not resp:\n",
    "        break\n",
    "    for x in resp:\n",
    "        all_title.append(x[\"name\"])\n",
    "        all_img.append(x[\"pic\"])\n",
    "        current_url = Template + x[\"contId\"]\n",
    "        try:\n",
    "            news1 = Article(current_url, language='zh')\n",
    "            news1.download()\n",
    "            news1.parse()\n",
    "            all_text.append(news1.text.replace('\\n',''))\n",
    "        except Exception as e:\n",
    "            print(f'无法获取 {current_url} 的内容: {e}')\n",
    "            all_text.append('NULL')\n",
    "    print(f\"page {pageNum} done\")\n",
    "    pageNum += 1\n"
   ]
  }
 ],
 "metadata": {
  "kernelspec": {
   "display_name": "Python 3.7.13 ('PyTorch')",
   "language": "python",
   "name": "python3"
  },
  "language_info": {
   "codemirror_mode": {
    "name": "ipython",
    "version": 3
   },
   "file_extension": ".py",
   "mimetype": "text/x-python",
   "name": "python",
   "nbconvert_exporter": "python",
   "pygments_lexer": "ipython3",
   "version": "3.7.13"
  },
  "orig_nbformat": 4,
  "vscode": {
   "interpreter": {
    "hash": "330807cf3b03783e20e51dbe2885055e79447f405d415e2682cdd78f6af61837"
   }
  }
 },
 "nbformat": 4,
 "nbformat_minor": 2
}
