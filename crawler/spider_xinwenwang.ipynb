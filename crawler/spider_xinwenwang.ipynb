{
 "cells": [
  {
   "cell_type": "code",
   "execution_count": null,
   "metadata": {},
   "outputs": [],
   "source": [
    "import requests\n",
    "from newspaper import Article\n",
    "import pandas as pd\n",
    "# url = 'https://www.piyao.org.cn/ds_d0dcbc84f3f54742beb26cf3f86ddb1f.json'  ## 这个是联动要闻\n",
    "template = 'http://m.chinanews.com/api/v1/getDigest/chs/{PageNum}.json'\n",
    "# url2 = 'http://www.news.cn/politics/ds_a6d618872de143bdafa2556915a7ae12.json'  ###http://www.news.cn/health/ds_907ef09aca4641d49e0a5d860b30a052.json\n",
    "linkurl = 'http://m.chinanews.com/wap/detail/chs/zw/{Id}.shtml'\n",
    "PageNum = 1\n",
    "all_title = []\n",
    "all_img = []\n",
    "all_url = []\n",
    "all_text = []\n",
    "for i in range(1000):\n",
    "    response = requests.get(template.format(PageNum=PageNum))\n",
    "    # flag = 1\n",
    "    content = (response.json())\n",
    "\n",
    "    for new in content['data']:\n",
    "        all_title.append(new['title'])\n",
    "        all_img.append(new['picture'])\n",
    "        id = new['id']\n",
    "        current_url = linkurl.format(Id=id)\n",
    "        all_url.append(current_url)\n",
    "        # try:\n",
    "        #     news1 = Article(current_url, language='zh')\n",
    "        #     news1.download()\n",
    "        #     news1.parse()\n",
    "        #     all_text.append(news1.text.replace('\\n',''))\n",
    "        # except Exception as e:\n",
    "        #     print(f'无法获取 {current_url} 的内容: {e}')\n",
    "        #     all_text.append('NULL')\n",
    "\n",
    "        # print(flag)\n",
    "    print(PageNum)\n",
    "    PageNum += 1\n",
    "    # except Exception as e:\n",
    "    #     print(e)\n",
    "        # print(flag)\n",
    "    # urls = ([x['publishUrl'] for x in content['datasource']])\n",
    "    # print\n",
    "    # breakpoint()\n",
    "    # print(len(urls))"
   ]
  },
  {
   "cell_type": "code",
   "execution_count": 11,
   "metadata": {},
   "outputs": [],
   "source": [
    "data = pd.DataFrame({'title':all_title,'text':all_url,'image':all_img,'url':all_url})\n",
    "data.to_csv('xinwenwang_real.csv', index=False)"
   ]
  },
  {
   "cell_type": "code",
   "execution_count": 18,
   "metadata": {},
   "outputs": [
    {
     "name": "stdout",
     "output_type": "stream",
     "text": [
      "\n"
     ]
    }
   ],
   "source": [
    "import requests\n",
    "from newspaper import Article\n",
    "url = 'http://m.chinanews.com/wap/detail/chs/zw/126488.shtml'\n",
    "news1 = Article(url, language='zh')\n",
    "news1.download()\n",
    "news1.parse()\n",
    "print(news1.text.replace('\\n',''))"
   ]
  },
  {
   "cell_type": "code",
   "execution_count": 4,
   "metadata": {},
   "outputs": [],
   "source": [
    "linkurl = 'http://m.chinanews.com/wap/detail/chs/zw/{Id}.shtml'\n",
    "Id =1 \n",
    "current_url = linkurl.format(Id=Id)"
   ]
  },
  {
   "cell_type": "code",
   "execution_count": null,
   "metadata": {},
   "outputs": [],
   "source": [
    "import requests\n",
    "from newspaper import Article\n",
    "import pandas as pd\n",
    "url_base = 'https://world.huanqiu.com/'\n",
    "url = 'https://world.huanqiu.com/api/list?node=%22/e3pmh22ph/e3pmh2398%22,%22/e3pmh22ph/e3pmh26vv%22,%22/e3pmh22ph/e3pn6efsl%22,%22/e3pmh22ph/efp8fqe21%22&offset={PageNum}&limit=24'"
   ]
  },
  {
   "cell_type": "code",
   "execution_count": null,
   "metadata": {},
   "outputs": [],
   "source": [
    "PageNum = 1\n",
    "all_title = []\n",
    "all_img = []\n",
    "# all_url = []\n",
    "all_text = []\n",
    "for i in range(1000):\n",
    "for i in range(1000):\n",
    "    response = requests.get(template.format(PageNum=PageNum))\n",
    "    # flag = 1\n",
    "    content = (response.json())\n",
    "\n",
    "    for new in content['data']:\n",
    "        all_title.append(new['title'])\n",
    "        all_img.append(new['picture'])\n",
    "        id = new['id']\n",
    "        current_url = linkurl.format(Id=id)\n",
    "        all_url.append(current_url)\n",
    "        try:\n",
    "            news1 = Article(current_url, language='zh')\n",
    "            news1.download()\n",
    "            news1.parse()\n",
    "            all_text.append(news1.text.replace('\\n',''))\n",
    "        except Exception as e:\n",
    "            print(f'无法获取 {current_url} 的内容: {e}')\n",
    "            all_text.append('NULL')\n",
    "\n",
    "        print(flag)\n",
    "    print(PageNum)\n",
    "    PageNum += 1\n",
    "    # except Exception as e:\n",
    "    #     print(e)\n",
    "        # print(flag)\n",
    "    # urls = ([x['publishUrl'] for x in content['datasource']])\n",
    "    # print\n",
    "    # breakpoint()\n",
    "    # print(len(urls))"
   ]
  }
 ],
 "metadata": {
  "kernelspec": {
   "display_name": "Python 3.7.13 ('PyTorch')",
   "language": "python",
   "name": "python3"
  },
  "language_info": {
   "codemirror_mode": {
    "name": "ipython",
    "version": 3
   },
   "file_extension": ".py",
   "mimetype": "text/x-python",
   "name": "python",
   "nbconvert_exporter": "python",
   "pygments_lexer": "ipython3",
   "version": "3.7.13"
  },
  "orig_nbformat": 4,
  "vscode": {
   "interpreter": {
    "hash": "330807cf3b03783e20e51dbe2885055e79447f405d415e2682cdd78f6af61837"
   }
  }
 },
 "nbformat": 4,
 "nbformat_minor": 2
}
