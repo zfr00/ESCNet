{
 "cells": [
  {
   "cell_type": "code",
   "execution_count": 5,
   "metadata": {},
   "outputs": [
    {
     "name": "stdout",
     "output_type": "stream",
     "text": [
      "page 1 done\n",
      "page 2 done\n",
      "page 3 done\n",
      "page 4 done\n",
      "page 5 done\n",
      "page 6 done\n",
      "page 7 done\n",
      "page 8 done\n",
      "page 9 done\n",
      "page 10 done\n",
      "page 11 done\n",
      "page 12 done\n",
      "page 13 done\n",
      "page 14 done\n",
      "page 15 done\n",
      "page 16 done\n",
      "page 17 done\n",
      "page 18 done\n",
      "page 19 done\n",
      "page 20 done\n",
      "page 21 done\n",
      "page 22 done\n",
      "page 23 done\n"
     ]
    }
   ],
   "source": [
    "import requests\n",
    "\n",
    "apiURL = \"https://api.factpaper.cn/fact-check/front/proveList\"\n",
    "aURL = 'https://api.thepaper.cn/search/web/news'\n",
    "all_title = []\n",
    "all_text = []\n",
    "all_img = []\n",
    "items = []\n",
    "\n",
    "pageNum = 1\n",
    "while True:\n",
    "    resp = requests.post(\n",
    "        apiURL,\n",
    "        json=dict(\n",
    "            pageNum=pageNum,\n",
    "            pageSize=20,\n",
    "            status=1,  # 1: 已核实 0: 核查中\n",
    "        ),\n",
    "    ).json()[\"data\"][\"list\"]\n",
    "    if not resp:\n",
    "        break\n",
    "    for x in resp:\n",
    "        all_title.append(x[\"title\"])\n",
    "        all_img.append(x[\"coverUrl\"])\n",
    "        all_text.append(f'https://www.factpaper.cn/detail?id={x[\"proveId\"]}')\n",
    "    print(f\"page {pageNum} done\")\n",
    "    pageNum += 1\n"
   ]
  },
  {
   "cell_type": "code",
   "execution_count": 6,
   "metadata": {},
   "outputs": [],
   "source": [
    "import pandas as pd\n",
    "data = pd.DataFrame({'title':all_title,'text':all_text,'image':all_img})\n",
    "data.to_csv('mingcha_factcheck.csv', index=False)"
   ]
  },
  {
   "cell_type": "code",
   "execution_count": null,
   "metadata": {},
   "outputs": [],
   "source": [
    "import requests\n",
    "\n",
    "apiURL = \"https://api.factpaper.cn/fact-check/front/proveList\"\n",
    "aURL = 'https://api.thepaper.cn/search/web/news'\n",
    "all_title = []\n",
    "all_text = []\n",
    "all_img = []\n",
    "items = []\n",
    "\n",
    "pageNum = 1\n",
    "while True:\n",
    "    resp = requests.post(\n",
    "        apiURL,\n",
    "        json=dict(\n",
    "            pageNum=pageNum,\n",
    "            pageSize=20,\n",
    "            status=1,  # 1: 已核实 0: 核查中\n",
    "        ),\n",
    "    ).json()[\"data\"][\"list\"]\n",
    "    if not resp:\n",
    "        break\n",
    "    for x in resp:\n",
    "        all_title.append(x[\"title\"])\n",
    "        all_img.append(x[\"coverUrl\"])\n",
    "        all_text.append(f'https://www.factpaper.cn/detail?id={x[\"proveId\"]}')\n",
    "    # items.extend(\n",
    "    #     {\n",
    "    #         \"title\": x[\"title\"],\n",
    "    #         \"cover_image_url\": x[\"coverUrl\"],\n",
    "    #         \"url\": f'https://www.factpaper.cn/detail?id={x[\"proveId\"]}',\n",
    "    #     }\n",
    "    #     for x in resp\n",
    "    # )\n",
    "    print(f\"page {pageNum} done\")\n",
    "    pageNum += 1\n"
   ]
  },
  {
   "cell_type": "code",
   "execution_count": null,
   "metadata": {},
   "outputs": [],
   "source": [
    "import pandas as pd\n",
    "import math\n",
    "import re\n",
    "all_text = []\n",
    "all_explain = []\n",
    "fileName=r\"F:\\GEB-Plus-main\\mingcha_factcheck.csv\"\n",
    "data=pd.read_csv(fileName)\n",
    "\n",
    "import requests\n",
    "# Template = 'http://m.chinanews.com/api/v1/wapDetail/newsContent/chs/{ID}.json'\n",
    "all_title = data['title']\n",
    "all_url = data['text']\n",
    "all_img = data['image']\n",
    "# print(data['text'][0])\n",
    "for url in all_url:\n",
    "    id = url.split('=')[-1]\n",
    "    print(id)\n",
    "    try:\n",
    "        resp = requests.post(\n",
    "        \"https://api.factpaper.cn/fact-check/front/proveInfo\",\n",
    "        json={\"proveId\": id},\n",
    "        ).json()\n",
    "        content = ''\n",
    "        for cont in resp['data']['checkInfoList']:\n",
    "            ###把这些文字都放到一个list里面,然后把list的所有元素join起来\n",
    "            if content == '':\n",
    "                content = cont['content']\n",
    "            else:\n",
    "                content = content + cont['content']\n",
    "            # content = cont['content']\n",
    "        chinese_and_symbols = re.findall(r'[\\u4e00-\\u9fa5，。？！“”：；‘’]', content)\n",
    "\n",
    "        # 将结果连接成一个字符串\n",
    "        result = ''.join(chinese_and_symbols)\n",
    "        all_text.append(result)\n",
    "        chinese_and_symbols2 = re.findall(r'[\\u4e00-\\u9fa5，。？！“”：；‘’]', resp['data']['finalCheckInfo']['content'])\n",
    "        result2 = ''.join(chinese_and_symbols2)\n",
    "        all_explain.append(result2)\n",
    "    except Exception as e:\n",
    "        print(f'无法获取 {url} 的内容: {e}')\n",
    "        all_text.append('NULL')"
   ]
  },
  {
   "cell_type": "code",
   "execution_count": null,
   "metadata": {},
   "outputs": [],
   "source": []
  },
  {
   "cell_type": "code",
   "execution_count": 8,
   "metadata": {},
   "outputs": [],
   "source": [
    "import pandas as pd\n",
    "import math\n",
    "import re\n",
    "all_text = []\n",
    "all_explain = []\n",
    "fileName=r\"F:\\GEB-Plus-main\\mingcha_factcheck.csv\"\n",
    "data=pd.read_csv(fileName)"
   ]
  },
  {
   "cell_type": "code",
   "execution_count": 12,
   "metadata": {},
   "outputs": [
    {
     "name": "stdout",
     "output_type": "stream",
     "text": [
      "使用Invid软件截取视频关键帧进行反搜，可以发现，该视频实际拍摄于2022年2月28日俄乌冲突爆发初期，俄罗斯军队向乌克兰第二大城市哈尔科夫发动袭击。英国《卫报》相关报道截图根据英国《卫报》（The Guardian）的报道，视频显示哈尔科夫市塞尔普尼亚地区一家购物中心遭到了俄罗斯阵地发射的火箭弹袭击。乌克兰哈尔科夫一家商店外的一枚残落的俄罗斯火箭弹。来源：每日邮报被俄罗斯火箭轰炸后乌克兰东部哈尔科夫一座公寓楼的地板。来源：每日邮报距离哈尔科夫市中心不远处一所受到袭击的学校。来源：《卫报》截至2023年4月，路透社（The Reuters）根据大量在线发布的美国情报的文件称，已有多达35万余名俄罗斯和乌克兰士兵在冲突中丧生或受伤。当地时间5月9日，乌克兰国家通讯社（National News Agency of Ukraine）报道称，基辅市及周边仍能听见爆炸声，防空系统正在工作。当地时间5月9日10时，俄罗斯首都莫斯科举行俄罗斯纪念卫国战争胜利78周年红场阅兵。今年共有超过1万名来自俄各军种官兵及军校学员，俄军轮式、履带式和防空系统等125件地面军事武器装备通过红场接受检阅。综上所述，网传“近日莫斯科被地毯式轰炸”的视频实为俄乌冲突爆发初期，俄罗斯军队袭击乌克兰哈尔科夫市一家购物中心的画面，拍摄时间为2022年2月28日。\n"
     ]
    }
   ],
   "source": [
    "# data['text'][0]\n",
    "import re\n",
    "pattern = re.compile(r'<[^>]+>',re.S)\n",
    "result = pattern.sub('', data['text'][0])\n",
    "print(result)"
   ]
  },
  {
   "cell_type": "code",
   "execution_count": 7,
   "metadata": {},
   "outputs": [],
   "source": [
    "import pandas as pd\n",
    "import math\n",
    "import re\n",
    "all_text = []\n",
    "all_explain = []\n",
    "fileName=r\"F:\\GEB-Plus-main\\mingcha_factcheck.csv\"\n",
    "data=pd.read_csv(fileName)\n",
    "\n",
    "# import requests\n",
    "# Template = 'http://m.chinanews.com/api/v1/wapDetail/newsContent/chs/{ID}.json'\n",
    "# all_title = data['title']\n",
    "my_all_text = data['text']\n",
    "# all_img = data['image']\n",
    "my_all_explain = data['explain']\n",
    "all_text = []\n",
    "all_explain = []\n",
    "for i in my_all_text:\n",
    "    pattern = re.compile(r'<[^>]+>',re.S)\n",
    "    result = pattern.sub('', i)\n",
    "    # 将结果连接成一个字符串\n",
    "    # result = ''.join(chinese_and_symbols)\n",
    "    all_text.append(result)\n",
    "for i in my_all_explain:\n",
    "    pattern = re.compile(r'<[^>]+>',re.S)\n",
    "    result2 = pattern.sub('', i)\n",
    "    all_explain.append(result2)"
   ]
  },
  {
   "cell_type": "code",
   "execution_count": 5,
   "metadata": {},
   "outputs": [],
   "source": [
    "import pandas as pd\n",
    "data = pd.DataFrame({'title':all_title,'text':all_text,'image':all_img,'explain':all_explain})\n",
    "data.to_csv('mingcha_factcheck.csv', index=False)"
   ]
  }
 ],
 "metadata": {
  "kernelspec": {
   "display_name": "Python 3.7.13 ('PyTorch')",
   "language": "python",
   "name": "python3"
  },
  "language_info": {
   "codemirror_mode": {
    "name": "ipython",
    "version": 3
   },
   "file_extension": ".py",
   "mimetype": "text/x-python",
   "name": "python",
   "nbconvert_exporter": "python",
   "pygments_lexer": "ipython3",
   "version": "3.7.13"
  },
  "orig_nbformat": 4,
  "vscode": {
   "interpreter": {
    "hash": "330807cf3b03783e20e51dbe2885055e79447f405d415e2682cdd78f6af61837"
   }
  }
 },
 "nbformat": 4,
 "nbformat_minor": 2
}
